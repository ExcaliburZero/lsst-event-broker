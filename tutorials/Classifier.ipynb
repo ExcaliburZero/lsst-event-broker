{
 "cells": [
  {
   "cell_type": "markdown",
   "metadata": {},
   "source": [
    "# Classifier\n",
    "Classifiers are a collection of [Binary Classifiers](Binary Classifier.ipynb) that are used in conjunction in order to attempt to check for a specific classification of astronomical phenomina.\n",
    "\n",
    "<img src=\"../images/classifier.png\" width=\"60%\" alt=\"Classifier diagram\" />"
   ]
  },
  {
   "cell_type": "code",
   "execution_count": null,
   "metadata": {
    "collapsed": true
   },
   "outputs": [],
   "source": []
  }
 ],
 "metadata": {
  "kernelspec": {
   "display_name": "Python 2",
   "language": "python",
   "name": "python2"
  },
  "language_info": {
   "codemirror_mode": {
    "name": "ipython",
    "version": 2
   },
   "file_extension": ".py",
   "mimetype": "text/x-python",
   "name": "python",
   "nbconvert_exporter": "python",
   "pygments_lexer": "ipython2",
   "version": "2.7.12"
  }
 },
 "nbformat": 4,
 "nbformat_minor": 1
}
