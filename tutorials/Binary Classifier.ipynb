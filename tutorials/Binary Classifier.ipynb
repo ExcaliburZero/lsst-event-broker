{
 "cells": [
  {
   "cell_type": "markdown",
   "metadata": {},
   "source": [
    "# Binary Classifier\n",
    "Binary Classifiers are the most basic part of the framework. Each Binary Classifier represents a single classification function.\n",
    "\n",
    "<img src=\"../images/binary_classifier.png\" width=\"60%\" alt=\"Binary Classifier diagram\" />\n",
    "\n",
    "## Structure\n",
    "Binary Classifiers contain a single classifying function and have a unique name. The classifiying function must take in a list of Observation objects and return a probability.\n",
    "\n",
    "```\n",
    "[Observation] -> Float\n",
    "```\n",
    "\n",
    "The classifying function should process the given observations in order to get a probability value. The Binary Classifier class will be able to take the probability value and observation data and construct a Result object based on it.\n",
    "\n",
    "Additionally, each Binary Classifier should be given a unique name to make it identifiable in the results.\n",
    "\n",
    "## Examples\n",
    "A Binary Classifier can be created by specifying a name and classifying function. This example uses a simple classification function which sums the light values of the given observations, takes the reminder of dividing the sum by 10, and divides that remainer by 10 to get a probability value."
   ]
  },
  {
   "cell_type": "code",
   "execution_count": 1,
   "metadata": {
    "collapsed": false
   },
   "outputs": [],
   "source": [
    "from lsstbroker import binary_classifier\n",
    "\n",
    "def classifying_function(obs):\n",
    "    values = [o.light for o in obs]\n",
    "    avg = sum(values)\n",
    "    prob = (avg % 10) / 10.0\n",
    "    return prob\n",
    "\n",
    "name = \"C-00001\"\n",
    "bc = binary_classifier.BinaryClassifier(name, classifying_function)"
   ]
  },
  {
   "cell_type": "markdown",
   "metadata": {},
   "source": [
    "Once a Binary Classifier has been created, Observation objects can then be run against it to generate the results of the processing."
   ]
  },
  {
   "cell_type": "code",
   "execution_count": 2,
   "metadata": {
    "collapsed": false
   },
   "outputs": [
    {
     "data": {
      "text/plain": [
       "('LSST-00001A', 0.7, 'C-00001', 0.2)"
      ]
     },
     "execution_count": 2,
     "metadata": {},
     "output_type": "execute_result"
    }
   ],
   "source": [
    "from lsstbroker import observation\n",
    "\n",
    "object_name = \"LSST-00001A\"\n",
    "observation1 = observation.Observation(object_name, 0.5, 42, 0.005)\n",
    "observation2 = observation.Observation(object_name, 0.7, 50, 0.005)\n",
    "observations = [observation1, observation2]\n",
    "\n",
    "bc.run(observations)"
   ]
  }
 ],
 "metadata": {
  "kernelspec": {
   "display_name": "Python 2",
   "language": "python",
   "name": "python2"
  },
  "language_info": {
   "codemirror_mode": {
    "name": "ipython",
    "version": 2
   },
   "file_extension": ".py",
   "mimetype": "text/x-python",
   "name": "python",
   "nbconvert_exporter": "python",
   "pygments_lexer": "ipython2",
   "version": "2.7.12"
  }
 },
 "nbformat": 4,
 "nbformat_minor": 1
}
